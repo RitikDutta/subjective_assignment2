{
 "cells": [
  {
   "cell_type": "markdown",
   "metadata": {},
   "source": [
    "# Assignment"
   ]
  },
  {
   "cell_type": "markdown",
   "metadata": {},
   "source": [
    "Q1. Write the Python class to convert an integer to a roman numeral?"
   ]
  },
  {
   "cell_type": "code",
   "execution_count": 1,
   "metadata": {},
   "outputs": [
    {
     "name": "stdout",
     "output_type": "stream",
     "text": [
      "LVI\n"
     ]
    }
   ],
   "source": [
    "class Roman():\n",
    "    def int_to_roman(self, num):\n",
    "        roman = [1000000, 900000, 500000, 400000, 100000, 90000, 50000, 40000, 10000, 9000, 5000, 4000, 1000, 900, 500, 400, 100, 90, 50, 40, 10, 9, 5, 4, 1]\n",
    "\n",
    "        name = [\n",
    "            'M', 'C', 'D', 'CD', 'C', 'XC', 'L', 'XL', 'X', 'IX', 'V', 'IV', \"M\", \"CM\", \"D\", \"CD\", \"C\", \"XC\", \"L\", \"XL\", \"X\", \"IX\", \"V\", \"IV\", \"I\"]\n",
    "\n",
    "        result = \"\"\n",
    "        decimal = num\n",
    "\n",
    "        while decimal > 0:\n",
    "            for i in range(len(roman)):\n",
    "                if decimal >= roman[i]:\n",
    "                    result += name[i]\n",
    "                    decimal -= roman[i]\n",
    "                    break\n",
    "        return result\n",
    "rom = Roman()\n",
    "print(rom.int_to_roman(56))"
   ]
  },
  {
   "cell_type": "markdown",
   "metadata": {},
   "source": [
    "Q2 Write the Python class to convert a Roman numeral to an integer?\n"
   ]
  },
  {
   "cell_type": "code",
   "execution_count": 2,
   "metadata": {},
   "outputs": [
    {
     "name": "stdout",
     "output_type": "stream",
     "text": [
      "17\n"
     ]
    }
   ],
   "source": [
    "class Roman:\n",
    "    def roman_to_int(self, s):\n",
    "        roman = {'I': 1, 'V': 5, 'X': 10, 'L': 50, 'C': 100, 'D': 500, 'M': 1000}\n",
    "        n = 0\n",
    "        for i in range(len(s)):\n",
    "            if i > 0 and roman[s[i]] > roman[s[i - 1]]:\n",
    "                n += roman[s[i]] - 2 * roman[s[i - 1]]\n",
    "            else:\n",
    "                n += roman[s[i]]\n",
    "        return n\n",
    "inte = Roman()\n",
    "print(inte.roman_to_int('XVII'))\n"
   ]
  },
  {
   "cell_type": "markdown",
   "metadata": {},
   "source": [
    "Q3. Write the Python class to find the validity of the string of the\n",
    "parentheses, '(', ')', '{', '}', '[' and '] and the brackets must be closed\n",
    "in the correct order, example - \"()\" and \"()[]{}\" are valid but \"[)\",\n",
    "\"({[)]\" and \"{{{\" are invalid.\n"
   ]
  },
  {
   "cell_type": "code",
   "execution_count": 3,
   "metadata": {},
   "outputs": [
    {
     "name": "stdout",
     "output_type": "stream",
     "text": [
      "True\n"
     ]
    }
   ],
   "source": [
    "def parenth(str1):\n",
    "    forewardn = [\"(\", \"{\", \"[\"]\n",
    "    reversedn = [\")\", \"}\", \"]\"]\n",
    "    count = 0\n",
    "    for i in range(0, len(str1)-1):\n",
    "        if i%2 != 0:\n",
    "            continue\n",
    "        if str1[i] == forewardn[0] and str1[i+1] == reversedn[0] or str1[i] == forewardn[1] and str1[i+1] == reversedn[1] or str1[i] == forewardn[2] and str1[i+1] == reversedn[2]:\n",
    "            flag = (True)\n",
    "        else:\n",
    "            flag = (False)\n",
    "            break\n",
    "    return flag\n",
    "\n",
    "print(parenth('()()[]{}[][][][][][]{}()'))"
   ]
  },
  {
   "cell_type": "markdown",
   "metadata": {},
   "source": [
    "Q4. Write the Python class to get all possible unique subsets from a set\n",
    "of distinct integers?\n",
    "\n",
    "    Input - [4, 5, 6]\n",
    "    Output - [[], [6], [5], [5, 6], [4], [4, 6], [4, 5], [4, 5, 6]]"
   ]
  },
  {
   "cell_type": "code",
   "execution_count": 12,
   "metadata": {},
   "outputs": [
    {
     "name": "stdout",
     "output_type": "stream",
     "text": [
      "[[], [4], [4, 5], [4, 5, 6], [5], [5, 6], [6]]\n"
     ]
    }
   ],
   "source": [
    "class Subset():\n",
    "    def subsets(self, list1): \n",
    "        lis1 = [[]] \n",
    "        for i in range(len(list1) + 1): \n",
    "            for j in range(i + 1, len(list1) + 1): \n",
    "                sub = list1[i:j] \n",
    "                lis1.append(sub) \n",
    "        return lis1 \n",
    "sub = Subset()\n",
    "print(sub.subsets([4, 5, 6])) "
   ]
  },
  {
   "cell_type": "markdown",
   "metadata": {},
   "source": [
    "Q5. Write the Python class to find a pair of elements (indices of the two\n",
    "numbers) from a given array whose sum equals the specific target\n",
    "number?\n",
    "\n",
    "    Input: numbers- [10,20,10,40,50,60,70], target=50\n",
    "    Output- 3, 4"
   ]
  },
  {
   "cell_type": "code",
   "execution_count": 22,
   "metadata": {},
   "outputs": [
    {
     "name": "stdout",
     "output_type": "stream",
     "text": [
      "[[0, 3], [2, 3]]\n"
     ]
    }
   ],
   "source": [
    "class Pair():\n",
    "    def pairindices(self, arr, sum): \n",
    "        pair = [] \n",
    "        for i in range(0, len(arr)): \n",
    "            for j in range(i + 1, len(arr)): \n",
    "                if arr[i] + arr[j] == sum: \n",
    "                    pair.append([i, j])\n",
    "        return pair\n",
    "pairr = Pair()\n",
    "print(pairr.pairindices([10,20,10,40,50,60,70], 50))"
   ]
  },
  {
   "cell_type": "markdown",
   "metadata": {},
   "source": [
    "Q6. Write the Python class to find the three elements that sum to zero\n",
    "from the set of n real numbers?\n",
    "\n",
    "    Input array- [-25, -10, -7, -3, 2, 4, 8, 10]\n",
    "    Output - [[-10, 2, 8], [-7, -3, 10]]\n"
   ]
  },
  {
   "cell_type": "code",
   "execution_count": 27,
   "metadata": {},
   "outputs": [
    {
     "name": "stdout",
     "output_type": "stream",
     "text": [
      "[[-10, 2, 8], [-7, -3, 10]]\n"
     ]
    }
   ],
   "source": [
    "class Pair():\n",
    "    def pairindices(self, arr): \n",
    "        pair = [] \n",
    "        for i in range(0, len(arr)): \n",
    "            for j in range(i + 1, len(arr)):\n",
    "                for k in range(j+1, len(arr)):\n",
    "                    if arr[i] + arr[j] + arr[k] == 0: \n",
    "                        pair.append([arr[i], arr[j], arr[k]])\n",
    "        return pair\n",
    "pairr = Pair()\n",
    "print(pairr.pairindices([-25, -10, -7, -3, 2, 4, 8, 10]))"
   ]
  },
  {
   "cell_type": "markdown",
   "metadata": {},
   "source": [
    "Q7. Write the Python class to implement pow(x, n)?"
   ]
  },
  {
   "cell_type": "code",
   "execution_count": 51,
   "metadata": {},
   "outputs": [
    {
     "name": "stdout",
     "output_type": "stream",
     "text": [
      "36\n"
     ]
    }
   ],
   "source": [
    "class Powe():\n",
    "    def powe(self, x, n):\n",
    "        p = 1\n",
    "        for i in range(1, n+1):\n",
    "            p*=x\n",
    "        return p\n",
    "po = Powe()\n",
    "print(po.powe(6, 2))"
   ]
  },
  {
   "cell_type": "markdown",
   "metadata": {},
   "source": [
    "Q8. Write the Python class which has two methods get_String and\n",
    "print_String. get_String accept the string from the user and \n",
    "print_String print the string in upper case."
   ]
  },
  {
   "cell_type": "code",
   "execution_count": 58,
   "metadata": {},
   "outputs": [
    {
     "name": "stdout",
     "output_type": "stream",
     "text": [
      "Enter a string: ineuron\n",
      "INEURON\n"
     ]
    }
   ],
   "source": [
    "class Strings():\n",
    "    def get_String(self):\n",
    "        self.str1 = input(\"Enter a string: \")\n",
    "        \n",
    "    def print_string(self):\n",
    "        print(self.str1.upper())\n",
    "s = Strings()\n",
    "s.get_String()\n",
    "s.print_string()\n",
    "        "
   ]
  },
  {
   "cell_type": "markdown",
   "metadata": {},
   "source": [
    "Q9. Write the Python class named Rectangle constructed by a length\n",
    "and width and the method which will compute the area of the\n",
    "rectangle?"
   ]
  },
  {
   "cell_type": "code",
   "execution_count": 61,
   "metadata": {},
   "outputs": [
    {
     "name": "stdout",
     "output_type": "stream",
     "text": [
      "4050\n"
     ]
    }
   ],
   "source": [
    "class Rectangle():\n",
    "    def __init__(self, leng, widt):\n",
    "        self.length = leng\n",
    "        self.width  = widt\n",
    "\n",
    "    def area(self):\n",
    "        return self.length*self.width\n",
    "\n",
    "react = Rectangle(45, 90)\n",
    "print(react.area())"
   ]
  },
  {
   "cell_type": "markdown",
   "metadata": {},
   "source": [
    "Q10. Write the Python class named Circle constructed by the radius\n",
    "and two methods which will compute the area and perimeter of\n",
    "the circle?"
   ]
  },
  {
   "cell_type": "code",
   "execution_count": 64,
   "metadata": {},
   "outputs": [
    {
     "name": "stdout",
     "output_type": "stream",
     "text": [
      "6358.5\n",
      "282.6\n"
     ]
    }
   ],
   "source": [
    "class Circle():\n",
    "    def __init__(self, radi):\n",
    "        self.radius = radi\n",
    "\n",
    "    def area(self):\n",
    "        return self.radius * self.radius * 3.14\n",
    "    def perimeter(self):\n",
    "        return self.radius * 2 * 3.14\n",
    "\n",
    "circ = Circle(45)\n",
    "print(circ.area())\n",
    "print(circ.perimeter())"
   ]
  },
  {
   "cell_type": "markdown",
   "metadata": {},
   "source": [
    "Q11. Write the Python program to get the class name of an instance in\n",
    "Python?"
   ]
  },
  {
   "cell_type": "code",
   "execution_count": 68,
   "metadata": {},
   "outputs": [
    {
     "name": "stdout",
     "output_type": "stream",
     "text": [
      "Happy\n"
     ]
    }
   ],
   "source": [
    "class Happy():\n",
    "    def happ():\n",
    "        print(\"behappy\")\n",
    "h = Happy()\n",
    "print(h.__class__.__name__)"
   ]
  },
  {
   "cell_type": "markdown",
   "metadata": {},
   "source": [
    "Q12. Write the Python program to count the number of students of\n",
    "individual class?\n",
    "\n",
    "    Sample dataclasses = (\n",
    "    ('V', 1),\n",
    "    ('VI', 1),\n",
    "    ('V', 2),\n",
    "    ('VI', 2),\n",
    "    ('VI', 3),\n",
    "    ('VII', 1),\n",
    "    )\n",
    "    Expected OutputCounter({'VI': 3, 'V': 2, 'VII': 1})"
   ]
  },
  {
   "cell_type": "code",
   "execution_count": 107,
   "metadata": {},
   "outputs": [
    {
     "name": "stdout",
     "output_type": "stream",
     "text": [
      "Resultant dictionary is : {'V': 2, 'VI': 3, 'VII': 2}\n"
     ]
    }
   ],
   "source": [
    "dataclasses = (('V', 1),('VI', 1),('V', 2),('VI', 2),('VI', 3),('VII', 1))\n",
    "li = []\n",
    "for i in range(len(dataclasses)):\n",
    "    li.append(dataclasses[i][0])\n",
    "# print(li)\n",
    "\n",
    "unique_nums = []\n",
    "for i in range (0, len(li)):\n",
    "    count = 0\n",
    "    flag = False\n",
    "    for j in range(i+1, len(li)):\n",
    "        if li[i] == li[j]:\n",
    "            flag = True\n",
    "    if flag == False:\n",
    "        unique_nums.append(li[i])\n",
    "# print(unique_nums)\n",
    "count_arr = []\n",
    "for i in range(len(unique_nums)):\n",
    "    count = 0\n",
    "    for j in range(len(li)):\n",
    "        if li[i] == li[j]:\n",
    "            count+=1\n",
    "    count_arr.append(count)\n",
    "# print(count_arr)\n",
    "    \n",
    "test_keys = unique_nums \n",
    "test_values = count_arr \n",
    "  \n",
    "res = {} \n",
    "for key in test_keys: \n",
    "    for value in test_values: \n",
    "        res[key] = value \n",
    "        test_values.remove(value) \n",
    "        break  \n",
    "  \n",
    "# Printing resultant dictionary  \n",
    "print (\"Resultant dictionary is : \" +  str(res)) "
   ]
  },
  {
   "cell_type": "markdown",
   "metadata": {},
   "source": [
    "## Great Job!"
   ]
  },
  {
   "cell_type": "code",
   "execution_count": null,
   "metadata": {},
   "outputs": [],
   "source": []
  }
 ],
 "metadata": {
  "kernelspec": {
   "display_name": "Python 3",
   "language": "python",
   "name": "python3"
  },
  "language_info": {
   "codemirror_mode": {
    "name": "ipython",
    "version": 3
   },
   "file_extension": ".py",
   "mimetype": "text/x-python",
   "name": "python",
   "nbconvert_exporter": "python",
   "pygments_lexer": "ipython3",
   "version": "3.7.4"
  }
 },
 "nbformat": 4,
 "nbformat_minor": 2
}
