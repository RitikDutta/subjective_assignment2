{
 "cells": [
  {
   "cell_type": "markdown",
   "metadata": {},
   "source": [
    "## Problem Statement"
   ]
  },
  {
   "cell_type": "markdown",
   "metadata": {},
   "source": [
    "Q.1 Write a Python Program to implement your own myreduce() function which works exactly like\n",
    "Python's built-in function reduce()\n"
   ]
  },
  {
   "cell_type": "code",
   "execution_count": 38,
   "metadata": {},
   "outputs": [
    {
     "name": "stdout",
     "output_type": "stream",
     "text": [
      "8\n"
     ]
    }
   ],
   "source": [
    "max_find = lambda a, b: a if a >b else b\n",
    "def myreduce(func, lis):\n",
    "    result = lis[0]\n",
    "    for i in lis[1:]:\n",
    "        result = func(result, i)\n",
    "    return result\n",
    "print(myreduce(max_find, [2,3, 8 ,4, 6, 2]))"
   ]
  },
  {
   "cell_type": "markdown",
   "metadata": {},
   "source": [
    "Q.2 Write a Python program to implement your own myfilter() function which works exactly like\n",
    "Python's built-in function filter()"
   ]
  },
  {
   "cell_type": "code",
   "execution_count": 39,
   "metadata": {},
   "outputs": [
    {
     "name": "stdout",
     "output_type": "stream",
     "text": [
      "[7, 8, 9, 9]\n"
     ]
    }
   ],
   "source": [
    "greater_than_5 = lambda a: True if a>5 else False\n",
    "def myfilter(func, lis):\n",
    "    result = []\n",
    "    for i in lis:\n",
    "        if func(i):\n",
    "            result.append(i)\n",
    "    return result\n",
    "print(myfilter(greater_than_5, [2, 4, 7, 8, 4, 1, 3, 9, 9]))"
   ]
  },
  {
   "cell_type": "markdown",
   "metadata": {},
   "source": [
    "Q.3 Implement List comprehensions to produce the following lists.\n",
    "   Write List comprehensions to produce the following Lists\n",
    "   \n",
    "    ['A', 'C', 'A', 'D', 'G', 'I', ’L’, ‘ D’]\n",
    "   \n",
    "    ['x', 'xx', 'xxx', 'xxxx', 'y', 'yy', 'yyy', 'yyyy', 'z', 'zz', 'zzz', 'zzzz']\n",
    "\n",
    "    ['x', 'y', 'z', 'xx', 'yy', 'zz', 'xx', 'yy', 'zz', 'xxxx', 'yyyy', 'zzzz']\n",
    "    \n",
    "    [[2], [3], [4], [3], [4], [5], [4], [5], [6]]\n",
    "\n",
    "    [[2, 3, 4, 5], [3, 4, 5, 6], [4, 5, 6, 7], [5, 6, 7, 8]]\n",
    "\n",
    "    [(1, 1), (2, 1), (3, 1), (1, 2), (2, 2), (3, 2), (1, 3), (2, 3), (3, 3)]"
   ]
  },
  {
   "cell_type": "code",
   "execution_count": 1,
   "metadata": {},
   "outputs": [
    {
     "name": "stdout",
     "output_type": "stream",
     "text": [
      "FIRST LIST:  ['A', 'C', 'A', 'D', 'G', 'I', 'L', 'D']\n",
      "SECOND LIST:  ['x', 'xx', 'xxx', 'xxxx', 'y', 'yy', 'yyy', 'yyyy', 'z', 'zz', 'zzz', 'zzzz']\n",
      "THIRD LIST:  ['x', 'y', 'z', 'xx', 'yy', 'zz', 'xxx', 'yyy', 'zzz', 'xxxx', 'yyyy', 'zzzz']\n",
      "FOURTH LIST:  [[2], [3], [4], [3], [4], [5], [4], [5], [6]]\n",
      "FIFTH LIST:  [[2, 3, 4, 5], [3, 4, 5, 6], [4, 5, 6, 7], [5, 6, 7, 8]]\n",
      "SIXTH LIST:  [(1, 1), (2, 1), (3, 1), (1, 2), (2, 2), (3, 2), (1, 3), (2, 3), (3, 3)]\n"
     ]
    }
   ],
   "source": [
    "#first list\n",
    "str1 = \"ACADGILD\"\n",
    "list1 = []\n",
    "for i in str1:\n",
    "    list1.append(i)\n",
    "print(\"FIRST LIST: \", list1)\n",
    "\n",
    "#second list\n",
    "lis2 = []\n",
    "str2 = 'xyz'\n",
    "for j in range(0, len(str2)):\n",
    "    for i in range(0, len(str2)+1):\n",
    "        lis2.append(str2[j] *(i+1))\n",
    "print(\"SECOND LIST: \",lis2)\n",
    "\n",
    "#third list\n",
    "lis3 = []\n",
    "str2 = 'xyz'\n",
    "for i in range(0, len(str2)+1):\n",
    "    for j in range(0, len(str2)):\n",
    "        lis3.append(str2[j] *(i+1))\n",
    "print(\"THIRD LIST: \",lis3)\n",
    "\n",
    "#fourth list\n",
    "lis4temp = []\n",
    "first_integer = 2\n",
    "for i in range(0, 3):\n",
    "    for j in range(0, 3):\n",
    "        lis4temp.append(j+1+i+first_integer-1)\n",
    "lis4 = [[i] for i in range(len(lis4temp))]\n",
    "for i in range(0, len(lis4temp)):\n",
    "    lis4[i][0] = lis4temp[i]\n",
    "print(\"FOURTH LIST: \", lis4)\n",
    "\n",
    "# fifth list\n",
    "lis5 = [[i]*4 for i in range(4)] \n",
    "for i in range(4):\n",
    "    for j in range(4):\n",
    "        lis5[i][j] = (i+j)+2\n",
    "print(\"FIFTH LIST: \", lis5)\n",
    "\n",
    "#sixth list\n",
    "list6 = []\n",
    "for i in range(3):\n",
    "    for j in range(3):\n",
    "        a = (j+1, i+1)\n",
    "        list6.append(a)\n",
    "print(\"SIXTH LIST: \", list6)"
   ]
  },
  {
   "cell_type": "markdown",
   "metadata": {},
   "source": [
    "Q.4 Implement a function longestWord() that takes a list of words and returns the longest one."
   ]
  },
  {
   "cell_type": "code",
   "execution_count": 32,
   "metadata": {},
   "outputs": [
    {
     "name": "stdout",
     "output_type": "stream",
     "text": [
      "aabracadabbra\n"
     ]
    }
   ],
   "source": [
    "def longestWord(lis):\n",
    "    temp = 0\n",
    "    longest_word = ''\n",
    "    for i in lis:\n",
    "        if len(i) > temp:\n",
    "            temp = len(i)\n",
    "            longest_word = i\n",
    "    return longest_word\n",
    "print(longestWord(['hello', 'one', 'aabracadabbra', 'two', 'wonderful', 'amazing']))"
   ]
  },
  {
   "cell_type": "markdown",
   "metadata": {},
   "source": [
    "Q.5 Write a Python Program(with class concepts) to find the area of the triangle using the below\n",
    "formula.\n",
    "\n",
    "area = (s*(s-a)*(s-b)*(s-c)) ** 0.5\n",
    "\n",
    "Function to take the length of the sides of triangle from user should be defined in the parent\n",
    "class and function to calculate the area should be defined in subclass."
   ]
  },
  {
   "cell_type": "code",
   "execution_count": 90,
   "metadata": {},
   "outputs": [
    {
     "name": "stdout",
     "output_type": "stream",
     "text": [
      "Enter side 1 : 2\n",
      "Enter side 2 : 3\n",
      "Enter side 3 : 4\n",
      "The area of the triangle is 2.90\n"
     ]
    }
   ],
   "source": [
    "class Triangle:\n",
    "    def __init__(self, no_of_sides):\n",
    "        self.n = no_of_sides\n",
    "        self.sides = [0 for i in range(no_of_sides)]\n",
    "    def inputSides(self):\n",
    "        self.sides[0] = float(input(\"side a\"))\n",
    "        self.sides[1] = float(input(\"side b\"))\n",
    "        self.sides[2] = float(input(\"side c\"))\n",
    "class Heros(Polygon):\n",
    "    def __init__(self):\n",
    "        Triangle.__init__(self,3)\n",
    "    def findArea(self):\n",
    "        a, b, c = self.sides\n",
    "        # calculate the semi-perimeter\n",
    "        s = (a + b + c) / 2\n",
    "        area = (s*(s-a)*(s-b)*(s-c)) ** 0.5\n",
    "        print('The area of the triangle is %0.2f' %area)\n",
    "        \n",
    "t = Heros()\n",
    "t.inputSides()\n",
    "t.findArea()"
   ]
  },
  {
   "cell_type": "markdown",
   "metadata": {},
   "source": [
    "Q.6 Write a function filter_long_words() that takes a list of words and an integer n and returns the list\n",
    "of words that are longer than n."
   ]
  },
  {
   "cell_type": "code",
   "execution_count": 92,
   "metadata": {},
   "outputs": [
    {
     "name": "stdout",
     "output_type": "stream",
     "text": [
      "['hello', 'aabracadabbra', 'wonderful', 'amazing']\n"
     ]
    }
   ],
   "source": [
    "def filter_long_words(lis, n):\n",
    "    long_words = []\n",
    "    for i in lis:\n",
    "        if len(i) > n:\n",
    "            long_words.append(i)\n",
    "    return long_words\n",
    "print(filter_long_words(['hello', 'one', 'aabracadabbra', 'two', 'wonderful', 'amazing'], 4))"
   ]
  },
  {
   "cell_type": "markdown",
   "metadata": {},
   "source": [
    "Q.7 Write a Python program using function concept that maps list of words into a list of integers\n",
    "representing the lengths of the corresponding words.\n",
    "    \n",
    "    Hint: If a list [ ab,cde,erty] is passed on to the python function output should come as [2,3,4]\n",
    "    Here 2,3 and 4 are the lengths of the words in the list."
   ]
  },
  {
   "cell_type": "code",
   "execution_count": 94,
   "metadata": {},
   "outputs": [
    {
     "name": "stdout",
     "output_type": "stream",
     "text": [
      "[2, 3, 4]\n"
     ]
    }
   ],
   "source": [
    "def len_list(lis):\n",
    "    lis_len = []\n",
    "    for i in range(len(lis)):\n",
    "        lis_len.append(len(lis[i]))\n",
    "    return lis_len\n",
    "print(len_list([ 'ab','cde','erty']))"
   ]
  },
  {
   "cell_type": "markdown",
   "metadata": {},
   "source": [
    "Q.8 Write a Python function which takes a character (i.e. a string of length 1) and returns True if it is\n",
    "a vowel, False otherwise."
   ]
  },
  {
   "cell_type": "code",
   "execution_count": 108,
   "metadata": {},
   "outputs": [
    {
     "name": "stdout",
     "output_type": "stream",
     "text": [
      "False\n",
      "True\n",
      "False\n"
     ]
    }
   ],
   "source": [
    "def isVovel(c):\n",
    "    vovels = ['a', 'e', 'i', 'o', 'u']\n",
    "    if c == 'a' or c == 'e' or c=='i' or c=='o' or c == 'u':\n",
    "        return True\n",
    "    else:\n",
    "        return False\n",
    "print(isVovel('f'))\n",
    "print(isVovel('e'))\n",
    "print(isVovel('b'))\n"
   ]
  },
  {
   "cell_type": "markdown",
   "metadata": {},
   "source": [
    "## Great job!"
   ]
  }
 ],
 "metadata": {
  "kernelspec": {
   "display_name": "Python 3",
   "language": "python",
   "name": "python3"
  },
  "language_info": {
   "codemirror_mode": {
    "name": "ipython",
    "version": 3
   },
   "file_extension": ".py",
   "mimetype": "text/x-python",
   "name": "python",
   "nbconvert_exporter": "python",
   "pygments_lexer": "ipython3",
   "version": "3.7.4"
  }
 },
 "nbformat": 4,
 "nbformat_minor": 2
}
