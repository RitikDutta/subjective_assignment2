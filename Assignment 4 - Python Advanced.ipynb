{
 "cells": [
  {
   "cell_type": "markdown",
   "metadata": {},
   "source": [
    "# Assignment 4 Questions"
   ]
  },
  {
   "cell_type": "markdown",
   "metadata": {},
   "source": [
    "## Problem Statement"
   ]
  },
  {
   "cell_type": "markdown",
   "metadata": {},
   "source": [
    "Q.1 Given a sequence of n values x1, x2, ..., xn and a window size k>0, the k-th moving average of\n",
    "the given sequence is defined as follows:\n",
    "\n",
    "The moving average sequence has n-k+1 elements as shown below.\n",
    "The moving averages with k=4 of a ten-value sequence (n=10) is shown below\n",
    "\n",
    "    i 1 2 3 4 5 6 7 8 9 10\n",
    "    ===== == == == == == == == == == ==\n",
    "    Input 10 20 30 40 50 60 70 80 90 100\n",
    "    y1 25 = (10+20+30+40)/4\n",
    "    y2 35 = (20+30+40+50)/4\n",
    "    y3 45 = (30+40+50+60)/4\n",
    "    y4 55 = (40+50+60+70)/4\n",
    "    y5 65 = (50+60+70+80)/4\n",
    "    y6 75 = (60+70+80+90)/4\n",
    "    y7 85 = (70+80+90+100)/4\n",
    "\n",
    "Thus, the moving average sequence has n-k+1=10-4+1=7 values.\n",
    "\n",
    "Write a function to find moving average in an array over a window:\n",
    "\n",
    "Test it over [3, 5, 7, 2, 8, 10, 11, 65, 72, 81, 99, 100, 150] and window of 3."
   ]
  },
  {
   "cell_type": "code",
   "execution_count": 1,
   "metadata": {},
   "outputs": [
    {
     "name": "stdout",
     "output_type": "stream",
     "text": [
      "[  5.           4.66666667   5.66666667   6.66666667   9.66666667\n",
      "  28.66666667  49.33333333  72.66666667  84.          93.33333333\n",
      " 116.33333333]\n"
     ]
    }
   ],
   "source": [
    "import numpy as np\n",
    "def moving_average(a, n=3) :\n",
    "    ret = np.cumsum(a, dtype=float)\n",
    "    ret[n:] = ret[n:] - ret[:-n]\n",
    "    return ret[n - 1:] / n\n",
    "a = [3, 5, 7, 2, 8, 10, 11, 65, 72, 81, 99, 100, 150]\n",
    "print(moving_average(a, n=3))"
   ]
  },
  {
   "cell_type": "markdown",
   "metadata": {},
   "source": [
    "Q.2 How-to-count-distance-to-the-previous-zero\n",
    "For each value, count the difference back to the previous zero (or the start of the Series,\n",
    "whichever is closer)\n",
    "create a new column 'Y'\n",
    "Consider a DataFrame df where there is an integer column 'X'\n",
    "    \n",
    "    import pandas as pd\n",
    "    df = pd.DataFrame({'X': [7, 2, 0, 3, 4, 2, 5, 0, 3, 4]})"
   ]
  },
  {
   "cell_type": "code",
   "execution_count": 5,
   "metadata": {},
   "outputs": [
    {
     "name": "stdout",
     "output_type": "stream",
     "text": [
      "[1, 2, 0, 1, 2, 3, 4, 0, 1, 2]\n"
     ]
    }
   ],
   "source": [
    "lis1 = [7, 2, 0, 3, 4, 2, 5, 0, 3, 4]\n",
    "t = 0\n",
    "r = []\n",
    "\n",
    "for i in lis1:\n",
    "    if i != 0:\n",
    "        t += 1\n",
    "    else:\n",
    "        t = 0\n",
    "    r.append(t)\n",
    "print(r)\n"
   ]
  },
  {
   "cell_type": "markdown",
   "metadata": {},
   "source": [
    "Q.3 Create a DatetimeIndex that contains each business day of 2015 and use it to index a Series of\n",
    "random numbers."
   ]
  },
  {
   "cell_type": "code",
   "execution_count": 14,
   "metadata": {},
   "outputs": [
    {
     "name": "stdout",
     "output_type": "stream",
     "text": [
      "2015-01-01    0.008858\n",
      "2015-01-02    0.842492\n",
      "2015-01-05    0.881247\n",
      "2015-01-06    0.244452\n",
      "2015-01-07    0.907096\n",
      "2015-01-08    0.901037\n",
      "2015-01-09    0.462389\n",
      "2015-01-12    0.842821\n",
      "2015-01-13    0.199721\n",
      "2015-01-14    0.100324\n",
      "2015-01-15    0.609387\n",
      "2015-01-16    0.797967\n",
      "2015-01-19    0.573700\n",
      "2015-01-20    0.119310\n",
      "2015-01-21    0.926821\n",
      "2015-01-22    0.813640\n",
      "2015-01-23    0.928795\n",
      "2015-01-26    0.188835\n",
      "2015-01-27    0.672340\n",
      "2015-01-28    0.514226\n",
      "2015-01-29    0.646022\n",
      "2015-01-30    0.171539\n",
      "2015-02-02    0.045970\n",
      "2015-02-03    0.278079\n",
      "2015-02-04    0.206389\n",
      "2015-02-05    0.554763\n",
      "2015-02-06    0.056033\n",
      "2015-02-09    0.077920\n",
      "2015-02-10    0.175981\n",
      "2015-02-11    0.063635\n",
      "                ...   \n",
      "2015-11-20    0.269185\n",
      "2015-11-23    0.278983\n",
      "2015-11-24    0.930885\n",
      "2015-11-25    0.628237\n",
      "2015-11-26    0.621537\n",
      "2015-11-27    0.068476\n",
      "2015-11-30    0.952145\n",
      "2015-12-01    0.634009\n",
      "2015-12-02    0.952109\n",
      "2015-12-03    0.124066\n",
      "2015-12-04    0.371603\n",
      "2015-12-07    0.282095\n",
      "2015-12-08    0.233649\n",
      "2015-12-09    0.327521\n",
      "2015-12-10    0.228446\n",
      "2015-12-11    0.761501\n",
      "2015-12-14    0.843989\n",
      "2015-12-15    0.811462\n",
      "2015-12-16    0.438507\n",
      "2015-12-17    0.311118\n",
      "2015-12-18    0.210099\n",
      "2015-12-21    0.152745\n",
      "2015-12-22    0.089560\n",
      "2015-12-23    0.761222\n",
      "2015-12-24    0.537633\n",
      "2015-12-25    0.288129\n",
      "2015-12-28    0.351605\n",
      "2015-12-29    0.923167\n",
      "2015-12-30    0.399722\n",
      "2015-12-31    0.765200\n",
      "Freq: B, Length: 261, dtype: float64\n"
     ]
    }
   ],
   "source": [
    "import pandas as pd\n",
    "import numpy as np\n",
    "dti = pd.date_range(start='2015-01-01', end='2015-12-31', freq='B') \n",
    "s = pd.Series(np.random.rand(len(dti)), index=dti)\n",
    "print(s)\n"
   ]
  },
  {
   "cell_type": "markdown",
   "metadata": {},
   "source": [
    "Q.4 "
   ]
  }
 ],
 "metadata": {
  "kernelspec": {
   "display_name": "Python 3",
   "language": "python",
   "name": "python3"
  },
  "language_info": {
   "codemirror_mode": {
    "name": "ipython",
    "version": 3
   },
   "file_extension": ".py",
   "mimetype": "text/x-python",
   "name": "python",
   "nbconvert_exporter": "python",
   "pygments_lexer": "ipython3",
   "version": "3.7.4"
  }
 },
 "nbformat": 4,
 "nbformat_minor": 2
}
