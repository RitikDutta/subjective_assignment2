{
 "cells": [
  {
   "cell_type": "markdown",
   "metadata": {},
   "source": [
    "# Assignments"
   ]
  },
  {
   "cell_type": "markdown",
   "metadata": {},
   "source": [
    "Q1. Write the Python function to get a string made of 4 copies of the last\n",
    "two characters of the specified string (length must be at least 2).\n",
    "\n",
    "    Sample function and result :\n",
    "    insert-end ('Python') -> abababab\n",
    "    insert-end('Exercises') -> jkjkjkjk"
   ]
  },
  {
   "cell_type": "code",
   "execution_count": 25,
   "metadata": {},
   "outputs": [
    {
     "name": "stdout",
     "output_type": "stream",
     "text": [
      "onononon\n",
      "eseseses\n"
     ]
    }
   ],
   "source": [
    "def copy_last(st):\n",
    "    return (st[-2:]*4)\n",
    "print(copy_last(\"Python\"))\n",
    "print(copy_last(\"Exercises\"))"
   ]
  },
  {
   "cell_type": "markdown",
   "metadata": {},
   "source": [
    "Q2. Write the python function to get a string made of its first three\n",
    "characters of a specified string. If the length of the string is less than 3\n",
    "then return the original string.\n",
    "    \n",
    "    Sample function and result :\n",
    "    first-three('ipy') -> ipy\n",
    "    first-three('python') -> pyt"
   ]
  },
  {
   "cell_type": "code",
   "execution_count": 26,
   "metadata": {},
   "outputs": [
    {
     "name": "stdout",
     "output_type": "stream",
     "text": [
      "ipy\n",
      "pyt\n"
     ]
    }
   ],
   "source": [
    "def first_three(st2):\n",
    "    return (st2[:3])\n",
    "print(first_three(\"ipy\"))\n",
    "print(first_three(\"python\"))"
   ]
  },
  {
   "cell_type": "markdown",
   "metadata": {},
   "source": [
    "Q3. Write the Python program to find smallest window that contains all\n",
    "characters of the given string?\n",
    "\n",
    "    Original Strings:\n",
    "    asdaewsqgtwwsa\n",
    "    Smallest window that contains all characters of the said string:\n",
    "    Daewsqgt"
   ]
  },
  {
   "cell_type": "code",
   "execution_count": 27,
   "metadata": {},
   "outputs": [
    {
     "name": "stdout",
     "output_type": "stream",
     "text": [
      "deqgtwsa\n",
      "Minimum window is: daewsqgt\n"
     ]
    }
   ],
   "source": [
    "def smallest_window(s):\n",
    "    str1 = s\n",
    "    #first we need to make a subsstring of all unique character present in main string\n",
    "    temp = \"\"\n",
    "    unique_char = \"\"\n",
    "    for i in range (0, len(str1)):\n",
    "        count = 0\n",
    "        flag = False\n",
    "        for j in range(i+1, len(str1)):\n",
    "            if str1[i] == str1[j]:\n",
    "                flag = True\n",
    "        if flag == False:\n",
    "            unique_char += str1[i]\n",
    "    print(unique_char)\n",
    "\n",
    "\n",
    "\n",
    "    str2 = unique_char    \n",
    "\n",
    "\n",
    "    # now checking for the minimum window whick contain all unique char in string itself\n",
    "    y = 0\n",
    "    for k in range(len(str1)):\n",
    "        for i in range(len(str1)):\n",
    "            if set(str1[i:i+k])>=set(str2) and y==0:\n",
    "                print('Minimum window is: %s' %str1[i:i+k])\n",
    "                y=1\n",
    "smallest_window(\"asdaewsqgtwwsa\")"
   ]
  },
  {
   "cell_type": "markdown",
   "metadata": {},
   "source": [
    "Q4. Write the Python program to count number of substrings from a\n",
    "given string of lowercase alphabets with exactly k distinct (given)\n",
    "characters?\n",
    "\n",
    "    Input a string (lowercase alphabets): wolf\n",
    "    Input k: 4\n",
    "\n",
    "Number of substrings with exactly 4 distinct characters: 1"
   ]
  },
  {
   "cell_type": "code",
   "execution_count": 28,
   "metadata": {},
   "outputs": [
    {
     "name": "stdout",
     "output_type": "stream",
     "text": [
      "founded  wolf\n",
      "Number of substrings with exactly 4 distinct(different) characters : 1\n"
     ]
    }
   ],
   "source": [
    "#remove commented print to see all possible words  \n",
    "def possible_str(strg, k):\n",
    "    str1 = strg\n",
    "    k=k\n",
    "    word = ''\n",
    "    for i in range(0, len(str1)-(k-1)):\n",
    "        for j in range(i, i+k):\n",
    "            word += str1[j]\n",
    "        word += ' '\n",
    "    word_count = word.split()\n",
    "    count=0\n",
    "    for word_rep in word_count:  \n",
    "        flag = False\n",
    "        for i in range(0, len(word_rep)):\n",
    "            for j in range(i+1, len(word_rep)):\n",
    "                if(word_rep[i] == word_rep[j]):\n",
    "                    flag = True\n",
    "                    break\n",
    "            if flag:\n",
    "                break\n",
    "        if flag==False:\n",
    "            print('founded ', word_rep)\n",
    "            count +=1\n",
    "    print('Number of substrings with exactly {} distinct(different) characters : {}'.format(k, count))\n",
    "possible_str('wolf', 4)"
   ]
  },
  {
   "cell_type": "markdown",
   "metadata": {},
   "source": [
    "Q5. Write the Python program to count number of non-empty\n",
    "substrings of the given string?\n",
    "\n",
    "    Input a string: w3resource\n",
    "    Number of substrings:\n",
    "    55"
   ]
  },
  {
   "cell_type": "code",
   "execution_count": 29,
   "metadata": {},
   "outputs": [
    {
     "name": "stdout",
     "output_type": "stream",
     "text": [
      "55\n"
     ]
    }
   ],
   "source": [
    "#remove comment to see all possible outcomes\n",
    "def no_of_strings(s):\n",
    "    str1 = s\n",
    "    count = 0\n",
    "    for i in range(0, len(str1)):\n",
    "        for j in range(i, len(str1)):\n",
    "            l = str1[j:]\n",
    "            #print(l)\n",
    "            count += 1\n",
    "    return count\n",
    "print(no_of_strings(\"w3resource\"))"
   ]
  },
  {
   "cell_type": "markdown",
   "metadata": {},
   "source": [
    "Q6. Write the Python program to count the number of strings where the\n",
    "string length is 2 or more, and first and last character are same\n",
    "from a given list of strings.\n",
    "\n",
    "    Sample List : ['abc', 'xyz', 'wxw', '1331']\n",
    "    Expected Result: 2"
   ]
  },
  {
   "cell_type": "code",
   "execution_count": 30,
   "metadata": {},
   "outputs": [
    {
     "name": "stdout",
     "output_type": "stream",
     "text": [
      "2\n"
     ]
    }
   ],
   "source": [
    "#uncomment to se all outcomes \n",
    "def strp(li):\n",
    "    count = 0\n",
    "    for i in li:\n",
    "        if len(i) > 1:\n",
    "            if i[0] == i[-1]:\n",
    "                count +=1\n",
    "                #print(i)\n",
    "    return count\n",
    "    \n",
    "    \n",
    "    \n",
    "    \n",
    "print(strp(['abc', 'xyz', 'wxw', '1331']))"
   ]
  },
  {
   "cell_type": "markdown",
   "metadata": {},
   "source": [
    "Q7. Write the Python program to get a list, sorted in increasing order by\n",
    "the last element in each tuple from the given list of non-empty\n",
    "tuples?\n",
    "\n",
    "    Sample List - [ (2, 5), (1, 2), (4, 4), (2, 3), (2, 1) ]\n",
    "    Expected Result - [ (2, 1), (1, 2), (2, 3), (4, 4), (2, 5) ]"
   ]
  },
  {
   "cell_type": "code",
   "execution_count": 31,
   "metadata": {},
   "outputs": [
    {
     "name": "stdout",
     "output_type": "stream",
     "text": [
      "[(2, 1), (1, 2), (2, 3), (4, 4), (2, 5)]\n"
     ]
    }
   ],
   "source": [
    "def second_sorted(li):\n",
    "    lis = li\n",
    "    for i in range(0, len(lis)):\n",
    "        for i in range(0, len(lis)-1):\n",
    "            if lis[i][1] > lis[i+1][1]:\n",
    "                temp = lis[i]\n",
    "                lis[i] = lis[i+1]\n",
    "                lis[i+1] = temp\n",
    "    print(lis)\n",
    "second_sorted([ (2, 5), (1, 2), (4, 4), (2, 3), (2, 1) ])\n"
   ]
  },
  {
   "cell_type": "markdown",
   "metadata": {},
   "source": [
    "Q8. Write the Python program to remove duplicates from a list?"
   ]
  },
  {
   "cell_type": "code",
   "execution_count": 33,
   "metadata": {},
   "outputs": [
    {
     "name": "stdout",
     "output_type": "stream",
     "text": [
      "[5, 1, 6, 3, 4]\n"
     ]
    }
   ],
   "source": [
    "def dup(li):\n",
    "    unique_nums = []\n",
    "    for i in range (0, len(li)):\n",
    "        count = 0\n",
    "        flag = False\n",
    "        for j in range(i+1, len(li)):\n",
    "            if li[i] == li[j]:\n",
    "                flag = True\n",
    "        if flag == False:\n",
    "            unique_nums.append(li[i])\n",
    "    print(unique_nums)\n",
    "\n",
    "dup([4, 5, 3, 1, 6, 3, 4])"
   ]
  },
  {
   "cell_type": "markdown",
   "metadata": {},
   "source": [
    "Q9. Write the Python program to find the list of words that are longer\n",
    "than n from a given list of words?"
   ]
  },
  {
   "cell_type": "code",
   "execution_count": 34,
   "metadata": {},
   "outputs": [
    {
     "name": "stdout",
     "output_type": "stream",
     "text": [
      "['hello', 'python', 'cool', 'language']\n"
     ]
    }
   ],
   "source": [
    "def bigger(n, str1):\n",
    "    big_list = []\n",
    "    words = str1.split(\" \")\n",
    "#    print(words)\n",
    "    for i in words:\n",
    "        if len(i) > n:\n",
    "            big_list.append(i)\n",
    "    print(big_list)\n",
    "bigger(3, \"hello python is the cool language\")"
   ]
  },
  {
   "cell_type": "markdown",
   "metadata": {},
   "source": [
    "Q10. Write the Python program to print a specified list after removing the\n",
    "0th, 4th, and 5th elements?\n",
    "    \n",
    "    Sample List - ['Red', 'Green', 'White', 'Black', 'Pink', 'Yellow']\n",
    "    Expected Output - ['Green', 'White', 'Black']"
   ]
  },
  {
   "cell_type": "code",
   "execution_count": 35,
   "metadata": {},
   "outputs": [
    {
     "name": "stdout",
     "output_type": "stream",
     "text": [
      "['Green', 'White', 'Black']\n"
     ]
    }
   ],
   "source": [
    "def remove_some(li):\n",
    "    removed = []\n",
    "    for i in range(0, len(li)):\n",
    "        if i == 0 or i == 4 or i==5:\n",
    "            pass\n",
    "        else:\n",
    "            removed.append(li[i])\n",
    "    print(removed)\n",
    "remove_some(['Red', 'Green', 'White', 'Black', 'Pink', 'Yellow'])"
   ]
  },
  {
   "cell_type": "markdown",
   "metadata": {},
   "source": [
    "Q11. Write the Python program to generate all permutations of a list in\n",
    "Python?"
   ]
  },
  {
   "cell_type": "code",
   "execution_count": 36,
   "metadata": {},
   "outputs": [
    {
     "name": "stdout",
     "output_type": "stream",
     "text": [
      "[1, 2, 3]\n",
      "[1, 3, 2]\n",
      "[2, 1, 3]\n",
      "[2, 3, 1]\n",
      "[3, 2, 1]\n",
      "[3, 1, 2]\n",
      "None\n"
     ]
    }
   ],
   "source": [
    "def permutations(arr, s = 0):\n",
    "    if s == len(arr):\n",
    "        print ((arr))\n",
    "    for i in range(s, len(arr)):\n",
    "        temp = [c for c in arr]\n",
    "        temp[s], temp[i] =temp[i], temp[s]\n",
    "        permutations(temp, s + 1)\n",
    "print (permutations ([1, 2, 3]))"
   ]
  },
  {
   "cell_type": "markdown",
   "metadata": {},
   "source": [
    "Q12. Write the Python program to convert a pair of values into a sorted\n",
    "unique array?\n",
    " \n",
    "    Original List- [ (1, 2), (3, 4), (1, 2), (5, 6), (7, 8), (1, 2), (3, 4), (3, 4), (7, 8), (9, 10) ]\n",
    "    Sorted Unique Data- [ 1, 2, 3, 4, 5, 6, 7, 8, 9, 10 ] \n"
   ]
  },
  {
   "cell_type": "code",
   "execution_count": 37,
   "metadata": {},
   "outputs": [
    {
     "name": "stdout",
     "output_type": "stream",
     "text": [
      "[1, 2, 3, 4, 5, 6, 7, 8, 9, 10]\n"
     ]
    }
   ],
   "source": [
    "#first we need to convert this list into 1D list\n",
    "def oneDlist(ls):\n",
    "    list0 = ls\n",
    "    list1 = []\n",
    "    for i in list0:\n",
    "        list1.append(i[0])\n",
    "        list1.append(i[1])\n",
    "    return list1\n",
    "#now remove the duplicates\n",
    "\n",
    "def no_dup(li):\n",
    "    unique_nums = []\n",
    "    for i in range (0, len(li)):\n",
    "        count = 0\n",
    "        flag = False\n",
    "        for j in range(i+1, len(li)):\n",
    "            if li[i] == li[j]:\n",
    "                flag = True\n",
    "        if flag == False:\n",
    "            unique_nums.append(li[i])\n",
    "    return unique_nums\n",
    "\n",
    "#now bubble sort\n",
    "def bubbe_sort(li):\n",
    "    for x in list2:\n",
    "        for i in range(0, len(list2)-1):\n",
    "            if list2[i] > list2[i+1]:\n",
    "                temp = list2[i]\n",
    "                list2[i] = list2[i+1]\n",
    "                list2[i+1] = temp\n",
    "    return list2\n",
    "\n",
    "\n",
    "def sort_2d(ls):\n",
    "    onedList = oneDlist(ls)\n",
    "    no_dupl = no_dup(onedList)\n",
    "    sortedList = bubbe_sort(no_dupl)\n",
    "    return sortedList\n",
    "\n",
    "original_List = [ (1, 2), (3, 4), (1, 2), (5, 6), (7, 8), (1, 2), (3, 4), (3, 4), (7, 8), (9, 10) ]\n",
    "print(sort_2d(original_List))\n",
    "    "
   ]
  },
  {
   "cell_type": "markdown",
   "metadata": {},
   "source": [
    "## Great job!"
   ]
  },
  {
   "cell_type": "code",
   "execution_count": null,
   "metadata": {},
   "outputs": [],
   "source": []
  }
 ],
 "metadata": {
  "kernelspec": {
   "display_name": "Python 3",
   "language": "python",
   "name": "python3"
  },
  "language_info": {
   "codemirror_mode": {
    "name": "ipython",
    "version": 3
   },
   "file_extension": ".py",
   "mimetype": "text/x-python",
   "name": "python",
   "nbconvert_exporter": "python",
   "pygments_lexer": "ipython3",
   "version": "3.7.4"
  }
 },
 "nbformat": 4,
 "nbformat_minor": 2
}
